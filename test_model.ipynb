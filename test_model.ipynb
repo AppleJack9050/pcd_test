{
 "cells": [
  {
   "cell_type": "code",
   "execution_count": 15,
   "id": "0ccab2e1",
   "metadata": {},
   "outputs": [],
   "source": [
    "config = dict()\n",
    "config['neighbor_sel'] = 32\n",
    "config['first_subsampling_dl'] = 0.025\n",
    "config['in_feats_dim'] = 1\n",
    "config['first_feats_dim'] = 128\n",
    "config['gnn_feats_dim'] = 256\n",
    "config['num_kernel_points'] = 15\n",
    "config['final_feats_dim'] = 32\n",
    "config['conv_radius'] = 2.5\n",
    "config['architecture'] = [\n",
    "    'simple',\n",
    "    'resnetb',\n",
    "    'resnetb_strided',\n",
    "    'resnetb',\n",
    "    'resnetb_strided',\n",
    "    'resnetb',\n",
    "    'resnetb_strided',\n",
    "    'resnetb',\n",
    "    'nearest_upsample',\n",
    "    'unary',\n",
    "    'nearest_upsample',\n",
    "    'unary',\n",
    "    'nearest_upsample',\n",
    "    'last_unary',\n",
    "]"
   ]
  },
  {
   "cell_type": "code",
   "execution_count": 14,
   "id": "2432a54b",
   "metadata": {},
   "outputs": [
    {
     "name": "stdout",
     "output_type": "stream",
     "text": [
      "['simple', 'resnetb', 'resnetb_strided', 'resnetb', 'resnetb_strided', 'resnetb', 'resnetb_strided', 'resnetb', 'nearest_upsample', 'unary', 'nearest_upsample', 'unary', 'nearest_upsample', 'last_unary']\n"
     ]
    }
   ],
   "source": [
    "class DotDict(dict):\n",
    "    def __getattr__(self, key):\n",
    "        if key in self:\n",
    "            return self[key]\n",
    "        raise AttributeError(f\"'DotDict' object has no attribute '{key}'\")\n",
    "    def __setattr__(self, key, value):\n",
    "        self[key] = value\n",
    "\n",
    "config = DotDict(config)\n",
    "print(config.architecture)  # 输出: Alice"
   ]
  },
  {
   "cell_type": "code",
   "execution_count": null,
   "id": "fd179a2d",
   "metadata": {},
   "outputs": [],
   "source": [
    "model = ResNet_PCD(config=config)\n",
    "\n",
    "# Fake point cloud (10 points) and node set (3 nodes)\n",
    "points = torch.rand((10, 3))\n",
    "nodes = torch.rand((3, 3))\n",
    "batch = {'points': [points, nodes]}\n",
    "\n",
    "feats_c, feats_f = model(batch)\n",
    "print(\"Encoder output (feats_c):\", feats_c.shape)\n",
    "print(\"Decoder output (feats_f):\", feats_f.shape)"
   ]
  }
 ],
 "metadata": {
  "kernelspec": {
   "display_name": "Python 3",
   "language": "python",
   "name": "python3"
  },
  "language_info": {
   "codemirror_mode": {
    "name": "ipython",
    "version": 3
   },
   "file_extension": ".py",
   "mimetype": "text/x-python",
   "name": "python",
   "nbconvert_exporter": "python",
   "pygments_lexer": "ipython3",
   "version": "3.12.9"
  }
 },
 "nbformat": 4,
 "nbformat_minor": 5
}
